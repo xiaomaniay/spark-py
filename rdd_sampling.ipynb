{
 "cells": [
  {
   "cell_type": "code",
   "execution_count": 1,
   "metadata": {},
   "outputs": [],
   "source": [
    "import urllib.request\n",
    "data_file = urllib.request.urlretrieve(\"http://kdd.ics.uci.edu/databases/kddcup99/kddcup.data.gz\", \"kddcup.data.gz\")"
   ]
  },
  {
   "cell_type": "code",
   "execution_count": 2,
   "metadata": {},
   "outputs": [],
   "source": [
    "data_file = './kddcup.data.gz'"
   ]
  },
  {
   "cell_type": "code",
   "execution_count": 3,
   "metadata": {},
   "outputs": [],
   "source": [
    "from pyspark import SparkContext\n",
    "sc = SparkContext.getOrCreate()\n",
    "raw_data = sc.textFile(data_file)"
   ]
  },
  {
   "cell_type": "code",
   "execution_count": 4,
   "metadata": {},
   "outputs": [
    {
     "name": "stdout",
     "output_type": "stream",
     "text": [
      "Sample size is 489957 of 4898431\n"
     ]
    }
   ],
   "source": [
    "# sample transformation\n",
    "raw_data_sample = raw_data.sample(False, 0.1, 1234)\n",
    "sample_size = raw_data_sample.count()\n",
    "total_size = raw_data.count()\n",
    "print('Sample size is {} of {}'.format(sample_size, total_size))"
   ]
  },
  {
   "cell_type": "code",
   "execution_count": 7,
   "metadata": {},
   "outputs": [
    {
     "name": "stdout",
     "output_type": "stream",
     "text": [
      "Transformation done in 0.0 seconds\n",
      "The ratio of normal interations is estimated to be 0.199\n",
      "Count done in 11.179 seconds\n"
     ]
    }
   ],
   "source": [
    "from time import time\n",
    "\n",
    "# transformations to be applied\n",
    "t0 = time()\n",
    "raw_data_sample_items = raw_data_sample.filter(lambda x: x.split(','))\n",
    "normal_sample = raw_data_sample_items.filter(lambda x: 'normal.' in x)\n",
    "tt1 = time() - t0\n",
    "print(\"Transformation done in {} seconds\".format(round(tt1, 3)))\n",
    "\n",
    "# action + time\n",
    "t0 = time()\n",
    "normal_count = normal_sample.count()\n",
    "tt2 = time() - t0\n",
    "\n",
    "normal_ratio = normal_count / float(sample_size)\n",
    "print(\"The ratio of normal interations is estimated to be {}\".format(round(normal_ratio, 3)))\n",
    "print(\"Count done in {} seconds\".format(round(tt2, 3)))\n"
   ]
  },
  {
   "cell_type": "code",
   "execution_count": 8,
   "metadata": {},
   "outputs": [
    {
     "name": "stdout",
     "output_type": "stream",
     "text": [
      "The ratio of normal interactions is estimated to be 0.199\n",
      "Count done in 20.686 seconds\n"
     ]
    }
   ],
   "source": [
    "raw_data_items = raw_data.filter(lambda x: x.split(','))\n",
    "normal = raw_data_items.filter(lambda x: 'normal.' in x)\n",
    "t0 = time()\n",
    "normal_count = normal.count()\n",
    "tt = time() - t0\n",
    "normal_ratio = normal_count / float(total_size)\n",
    "print(\"The ratio of normal interactions is estimated to be {}\".format(round(normal_ratio, 3)))\n",
    "print(\"Count done in {} seconds\".format(round(tt, 3)))"
   ]
  },
  {
   "cell_type": "code",
   "execution_count": 15,
   "metadata": {},
   "outputs": [
    {
     "name": "stdout",
     "output_type": "stream",
     "text": [
      "The ratio of normal interactions is 0.1988025\n",
      "Count done in 20.10554599761963 seconds\n"
     ]
    }
   ],
   "source": [
    "# takeSample action\n",
    "t0 = time()\n",
    "raw_data_sample = raw_data.takeSample(False, 400000, 1234)\n",
    "normal_data_sample = [x.split(',') for x in raw_data_sample if 'normal.' in x]\n",
    "normal_count = len(normal_data_sample)\n",
    "tt = time() - t0\n",
    "normal_ratio = normal_count / 400000\n",
    "print(\"The ratio of normal interactions is {}\".format(normal_ratio))\n",
    "print(\"Count done in {} seconds\".format(tt))"
   ]
  },
  {
   "cell_type": "code",
   "execution_count": null,
   "metadata": {},
   "outputs": [],
   "source": []
  }
 ],
 "metadata": {
  "kernelspec": {
   "display_name": "Python 3",
   "language": "python",
   "name": "python3"
  },
  "language_info": {
   "codemirror_mode": {
    "name": "ipython",
    "version": 3
   },
   "file_extension": ".py",
   "mimetype": "text/x-python",
   "name": "python",
   "nbconvert_exporter": "python",
   "pygments_lexer": "ipython3",
   "version": "3.6.5"
  }
 },
 "nbformat": 4,
 "nbformat_minor": 2
}
